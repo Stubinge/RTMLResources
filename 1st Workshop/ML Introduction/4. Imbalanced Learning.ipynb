{
 "cells": [
  {
   "cell_type": "markdown",
   "metadata": {},
   "source": [
    "# Imbalanced Learning\n",
    "\n",
    "**Author:** [Dr. Robert Lyon](http://www.scienceguyrob.com)\n",
    "\n",
    "**Contact:** robert.lyon@manchester.ac.uk\n",
    "\n",
    "**Institution:** University of Manchester\n",
    "\n",
    "**Affiliation:** SKA Group, Time Domain Team (TDT)\n",
    "\n",
    "**Version:** 1.0\n",
    "\n",
    "**Date: 11/04/2018**\n",
    "\n",
    "**Acknowledgements:** This notebook utilises data obtained by the High Time Resolution Universe Collaboration using the Parkes Observatory, funded by the Commonwealth of Australia and managed by the CSIRO. The data was originally processed by Dr. Daniel Thornton & Dr. Samuel Bates. I gratefully acknowledge their efforts. \n",
    "\n",
    "I make use of a Python library called $\\textrm{imblanced-learn}$ in this notebook. This was written by Guillaume Lemaître, Fernando Nogueira and Christos Aridas as part of their work,\n",
    "\n",
    "_\"Imbalanced-learn: A Python Toolbox to Tackle the Curse of Imbalanced Datasets in Machine Learning\", Journal of Machine Learning Research (JLMR), vol.18, number 17, 2017._\n",
    "\n",
    "Their work can be found [via the JLMR website](http://jmlr.org/papers/v18/16-365).\n",
    "\n",
    "I greatly appreciate their efforts.\n",
    "\n",
    "## Introduction\n",
    "This notebook explores the Imbalanced Learning Problem, that reduces the accuracy of Machine Learning (ML) algorithms. It was written to support a talk I delivered at European Week of Astronomy and Space Science (EWASS) meeting in 2018. The talk is entitled: \n",
    "\n",
    "*Imbalanced Learning In Astronomy*\n",
    "\n",
    "The notebook dissects the class imbalance problem through interactive Python code (Python version 3.6). I explore the key concepts and issues via a tutorial style. To run the code you require the $\\textrm{numpy}$, $\\textrm{scipy}$, $\\textrm{scikit-learn}$, and $\\textrm{imbalanced-learn}$ libraries. The notebook assumes some basic background knowledge in statistics and machine learning, but is pitched at a general audience that may have limited ML experience.\n",
    "\n",
    "## Code & License\n",
    "The code and the contents of this notebook are released under the GNU GENERAL PUBLIC LICENSE, Version 3, 29 June 2007. The images are exempt from this, as some are used in publications I've written in the past. If you'd like to use the images please let me know, and I'll sort something out.\n",
    "\n",
    "## Citation Request\n",
    "\n",
    "I kindly request that if you make use of the notebook, please cite the work using the following $\\textrm{Bibtex}$ source.\n"
   ]
  },
  {
   "cell_type": "raw",
   "metadata": {},
   "source": [
    "@inproceedings{Lyon:2018:ewassProceeding,\n",
    "    author    = {{Lyon}, R.~J.},\n",
    "    title     = {{Imbalanced Learning in Astronomy}},\n",
    "    booktitle = {European Week of Astronomy and Space Science (EWASS)},\n",
    "    note      = {Session S6, Software in Astronomy},\n",
    "    month     = {April},\n",
    "    year      = {2018},\n",
    "    }"
   ]
  },
  {
   "cell_type": "markdown",
   "metadata": {
    "collapsed": true
   },
   "source": [
    "## Machine Learning\n",
    "\n",
    "ML is a branch of artificial intelligence (A.I.), concerned with replicating and improving upon the human ability to learn. ML is comprised of multiple sub-fields, each supported by extremely active research communities. Here we are concerned with applying the tools from a specific area of ML known as pattern recognition - also known as statistical classification. The goal of classification is to automatically categorise items, objects, and data points, as accurately as possible. Human beings are capable of undertaking sophisticated classification tasks with ease, given appropriate training. This is due to our innate ability to categorise via trial and error. ML algorithms learn in a similar way, however using statistical tools (see Bishop 2006, and Lyon 2016 for a review).\n",
    "\n",
    "The aim of classification is to build functions that accurately map a set of input data points, to a set of **class** labels. This means mapping each input example to it's correct **label**. If $X=\\lbrace x_{\\rm 1}, \\ldots , x_{\\rm n} \\rbrace $ represents an input dataset, then $x_{\\rm i}$ is an individual example represented by variables known as **features**. Features describe the characteristics of an example such that $x_{\\rm i} = \\lbrace x_{\\rm i}^{\\rm j},...,x_{\\rm i}^{\\rm m} \\rbrace$, where each feature $x_{\\rm i}^{\\rm j} \\in \\mathbb{R}$ for $j=1, \\ldots , m$. \n",
    "\n",
    "The **class label** $y$ is also associated with each example. This can take many possible values so long as $y \\in Y$. The class label can be numerical or textual. Though typically each $y$ is an integer value correpsonding to some class category where $y \\in Y=\\lbrace y_{\\rm 1}, \\ldots, y_{\\rm k} \\rbrace$. It is common for only binary labels to be considered such that $y\\in Y=\\lbrace -1,1 \\rbrace$. Where $y_{\\rm 1}=-1$ equates to the non-target class (synonymous with negative) and $y_{\\rm 2}=1$ to target class (synonymous with positive). In the pulsar domain, we consider the pulsar class to be the target (positive), and all others (noise, interference) to be non-target (negative)\n",
    "\n",
    "The features used to describe examples must be chosen after careful consideration. Features must be useful for separating the classes under consideration. For the **binary** two-class case, assuming only positive and negative classes, the feature distributions for examples with the label $y_{\\rm 1}=-1$ must differ from the distributions for examples with the label $y_{\\rm 1}=1$. These distributions must be separable, which can be quantified mathematically, i.e. via distance measures. Feature separability is depicted in the image below according to individual features. Here $\\phi$ depicts an optimal separation between the classes.\n"
   ]
  },
  {
   "cell_type": "markdown",
   "metadata": {},
   "source": [
    "<img src=\"images/png/Split_Point_1.png\" width=\"500\">"
   ]
  },
  {
   "cell_type": "markdown",
   "metadata": {},
   "source": [
    "An ML function 'learns' to separate examples from different classes, using the feature data from a labelled input vector known as the **training set** $T_{train}$. It contains pairs such that $T_{train}=\\lbrace (x_{\\rm 1},y_{\\rm 1}),\\ldots,(x_{\\rm n},y_{\\rm n})\\rbrace$. \n",
    "\n",
    "Think of the training set as the information available to a student prior to an examination. This information must be descriptive, (i.e. the features must contain useful information), and reflect what the topic of the exam. A classifier induces a mapping function between examples and labels based on the data in $T_{train}$. It does this by attempting to minimise the mapping errors it makes on the training examples. This process is known as **'training'**. \n",
    "\n",
    "The trained function is used to label new **unseen** candidates in the **'test set'** $T_{test}$. The test should be a sample of independent examples used to test the trained classifier, or the real world data the classifier is asked to classify. "
   ]
  },
  {
   "cell_type": "markdown",
   "metadata": {},
   "source": [
    "## Imbalanced Learning Problem\n",
    "\n",
    "For binary classification problems, the class skew can be characterised by the imbalance ratio $IR$,"
   ]
  },
  {
   "cell_type": "markdown",
   "metadata": {},
   "source": [
    "\\begin{eqnarray}\n",
    "IR & = & \\frac{|\\lbrace (x_{i},y_{i}) | y_{i} \\in Y \\land y_{i}=y_{1} \\rbrace |}{|\\lbrace (x_{i},y_{i}) | y_{i} \\in Y \\land y_{i}=y_{2} \\rbrace |} \\textrm{.}\n",
    "\\end{eqnarray}"
   ]
  },
  {
   "cell_type": "markdown",
   "metadata": {},
   "source": [
    "Here $y_{1}$ is the minority class such that $0 < | y_{1} | < | y_{2}| $, and $y_{2}$ is therefore the majority class.\n",
    "\n",
    "Algorithms trained upon such data exhibit two general properties:\n",
    "* High training accuracy as the $IR$ approaches zero, where the cardinality of the majority class approaches infinity. This is achievable, since the majority class examples form an increasingly large proportion of the training set. Therefore the strategy that yields the greatest reduction in training set error, involves always predicting the majority class label. Thus classification models trained on such data, can become biased towards the majority class.\n",
    "* Poor minority class generalisation performance, particularly with respect to recall. Given that the training set is so imbalanced, $P(y_{1}|x_{i})$ (probability of $y_{1}$ for $x_{i}$) approaches zero as $\\lim_{IR} \\to 0$. In such cases $y_{1}$ is rarely if ever predicted.\n",
    "\n",
    "These are effects of what is known as the imbalanced learning problem. Imbalanced learning is concerned with overcoming these issues, in data sets that exhibit severe class imbalances where $IR < 0.1$ and worse. There are many discernible types of data imbalance that cause such problems (see He & Garcia, 2009). There are i) **intrinsic imbalances**, which are caused by the nature of the data space. There are ii) **extrinsic imbalances** caused by data collection techniques, and perhaps not attributable to a naturally imbalanced data distribution. Then there are iii) **relative imbalances**, occurring when a minority class is not rare, just small relative to the majority class. Whilst iv) **absolute rarity** pertains to situations where the minority class instances are genuinely rare, which naturally makes learning difficult. Finally there may be v) **sub-class imbalances**, whereby a single class is made up of numerous distinct subclasses, that are themselves imbalanced in one of the ways already described.\n",
    "\n",
    "Training a classifier on an imbalanced dataset does not necessarily mean poor generalisation performance. If the training data are discriminative enough to separate the different classes in data space, then the classifier will perform well regardless of the imbalance. A contrived example of this is shown in the image below.\n"
   ]
  },
  {
   "cell_type": "markdown",
   "metadata": {},
   "source": [
    "<img src=\"images/png/NoImbalanceProblem.png\" width=\"400\">"
   ]
  },
  {
   "cell_type": "markdown",
   "metadata": {},
   "source": [
    "It demonstrates that the underlying class distribution alone is not the root cause of poor performance on imbalanced data. Rather it is characteristics often possessed by imbalanced data sets, that make it difficult for a classifier to separate the minority and majority classes. These include,\n",
    "\n",
    "* **class inseparability**, which describes the overlapping nature of data from different classes. See a) in the image below.\n",
    "* **small disjuncts**, which occur when a concept is comprised of smaller disconnected sub-concepts. Small disjuncts are a problem as they cover only a few training cases. Many training examples are therefore usually required to characterise all the individual disjuncts. See b) in the image below.\n",
    "* the **small sample size** problem, which occurs when there are too few minority class examples available for learning. See c) in the image below.\n",
    "\n",
    "Ultimately these characteristics conspire to make it difficult for a classifier to construct an optimal decision boundary, leading to sub-optimal classifier performance.\n"
   ]
  },
  {
   "cell_type": "markdown",
   "metadata": {},
   "source": [
    "<img src=\"images/png/Imbalance_no_axis.png\" width=\"400\">"
   ]
  },
  {
   "cell_type": "markdown",
   "metadata": {},
   "source": [
    "## Solutions\n",
    "\n",
    "There are three generic approaches used to tackle a classification task. \n",
    "\n",
    "* Methods that assign labels to examples, according to their distance from some cluster centre. This is shown in a) below.\n",
    "* Methods that attempt to separate classes using decision boundaries. Class labels are assigned according to which side an example falls upon. Typically requires a region in data space that has a low density of examples, through which the boundary can be drawn. This is shown in b) below. \n",
    "* Instance-based methods,  that assign labels to new examples according to the majority label of their $n$ nearest neighbours. This is shown in c) below, via a typical nearest neighbour approach.\n",
    "\n",
    "There are other approaches, but these suffice for now."
   ]
  },
  {
   "cell_type": "markdown",
   "metadata": {},
   "source": [
    "<img src=\"images/png/LearningAssumptions.png\" width=\"300\">"
   ]
  },
  {
   "cell_type": "markdown",
   "metadata": {},
   "source": [
    "For each of these approaches, there are many ways to overcome the problems associated with class imbalance. Here we consider the most generic, often very succesfully applied.\n",
    "\n",
    "### Random Under-sampling\n",
    "\n",
    "In Random Under-sampling (RUS), majority class are instances are randomly omitted from the data set to balance the class distribution. Suppose we begin with data as shown in the image below."
   ]
  },
  {
   "cell_type": "markdown",
   "metadata": {},
   "source": [
    "<img src=\"images/png/UndersampleBefore.png\" width=\"200\">"
   ]
  },
  {
   "cell_type": "markdown",
   "metadata": {},
   "source": [
    "The goal is to randomly under-sample producing a more balanced data set:"
   ]
  },
  {
   "cell_type": "markdown",
   "metadata": {},
   "source": [
    "<img src=\"images/png/UndersampleAfter.png\" width=\"200\">"
   ]
  },
  {
   "cell_type": "markdown",
   "metadata": {},
   "source": [
    "Next let's create some imbalanced data to play with. We'll create a reasonable imbalance first. We'll use a 1:20 ratio, i.e. there are 20 majority class examples for each minority class example. In total 800 examples will be created."
   ]
  },
  {
   "cell_type": "code",
   "execution_count": 7,
   "metadata": {
    "collapsed": false
   },
   "outputs": [
    {
     "name": "stderr",
     "output_type": "stream",
     "text": [
      "/Users/rob/anaconda/envs/py36/lib/python3.6/site-packages/sklearn/utils/deprecation.py:75: DeprecationWarning: Function _ratio_float is deprecated; Use a float for 'ratio' is deprecated from version 0.2. The support will be removed in 0.4. Use a dict, str, or a callable instead.\n",
      "  warnings.warn(msg, category=DeprecationWarning)\n"
     ]
    },
    {
     "data": {
      "image/png": "[encoded data removed]",
      "text/plain": [
       "<matplotlib.figure.Figure at 0x118fb0080>"
      ]
     },
     "metadata": {},
     "output_type": "display_data"
    },
    {
     "name": "stdout",
     "output_type": "stream",
     "text": [
      "Size of the variables involved\n",
      "y length:  800\n",
      "X length:  800\n",
      "y resampled length:  90\n",
      "x resampled length:  90\n"
     ]
    }
   ],
   "source": [
    "# This is a modified version of the code originally \n",
    "# written by Christos Aridas and Guillaume Lemaitre\n",
    "# <g.lemaitre58@gmail.com>, released under the MIT\n",
    "# License.\n",
    "\n",
    "# Plotting library.\n",
    "import matplotlib.pyplot as plt\n",
    "\n",
    "# For some math we need to do.\n",
    "import numpy as np\n",
    "\n",
    "# Use the Sklearn library to make datasets,\n",
    "# and perform an anlysis.\n",
    "from sklearn.datasets import make_classification\n",
    "from sklearn.decomposition import PCA\n",
    "\n",
    "# The code that actually does the random undersampling.\n",
    "from imblearn.under_sampling import RandomUnderSampler\n",
    "\n",
    "# Generate a dataset to experiment with. Here I explain what this\n",
    "# function does, and what the parameters mean on their first use. \n",
    "# Where I use them elsewhere, return to here for a recap.\n",
    "# \n",
    "# n_classes : int, optional (default=2)\n",
    "# The number of classes (or labels) of the classification problem.\n",
    "#\n",
    "# class_sep : float, optional (default=1.0)\n",
    "# The factor multiplying the hypercube size. Larger values spread\n",
    "# out the clusters/classes and make the classification task easier.\n",
    "#\n",
    "# weights : list of floats or None (default=None)\n",
    "# The proportions of samples assigned to each class. If None, then\n",
    "# classes are balanced. Note that if len(weights) == n_classes - 1, \n",
    "# then the last class weight is automatically inferred. More than\n",
    "# n_samples samples may be returned if the sum of weights exceeds 1.\n",
    "#\n",
    "# n_informative : int, optional (default=2)\n",
    "# The number of informative features. Each class is composed of a\n",
    "# number of gaussian clusters each located around the vertices of\n",
    "# a hypercube in a subspace of dimension n_informative. For each\n",
    "# cluster, informative features are drawn independently from \n",
    "# N(0, 1) and then randomly linearly combined within each cluster\n",
    "# in order to add covariance. The clusters are then placed on the \n",
    "# vertices of the hypercube.\n",
    "# \n",
    "# n_redundant : int, optional (default=2)\n",
    "# The number of redundant features. These features are generated\n",
    "# as random linear combinations of the informative features.\n",
    "#\n",
    "# flip_y : float, optional (default=0.01)\n",
    "# The fraction of samples whose class are randomly exchanged.\n",
    "# Larger values introduce noise in the labels and make the \n",
    "# classification task harder.\n",
    "#\n",
    "# n_samples : int, optional (default=100)\n",
    "# The number of samples.\n",
    "# \n",
    "# random_state : int, RandomState instance or None, optional (default=None)\n",
    "# If int, random_state is the seed used by the random number \n",
    "# generator; If RandomState instance, random_state is the \n",
    "# random number generator; If None, the random number generator \n",
    "# is the RandomState instance used by np.random.\n",
    "#\n",
    "# For more details of this sklearn function, visit:\n",
    "# \n",
    "# http://scikit-learn.org/stable/modules/generated/sklearn.datasets.make_classification.html\n",
    "\n",
    "X, y = make_classification(n_classes=2, class_sep=1, weights=[0.05, 0.95],\n",
    "                           n_informative=3, n_redundant=1, flip_y=0,\n",
    "                           n_features=20  , n_clusters_per_class=1,\n",
    "                           n_samples=800  , random_state=10)\n",
    "\n",
    "# So now have a dataset to play with...\n",
    "\n",
    "# Build a PCA object for visualisation. PCA decomposes a dataset\n",
    "# of high dimensionality, into one of low dimensionality. It converts\n",
    "# a set of observations of possibly correlated variables into a set\n",
    "# of values of linearly uncorrelated variables called principal components.\n",
    "#\n",
    "# See https://en.wikipedia.org/wiki/Principal_component_analysis\n",
    "# for more details.\n",
    "pca = PCA(n_components=2)\n",
    "\n",
    "# Now we have data reduced to just 2 principal components - this makes\n",
    "# it much easier to plot (can't plot high dimensionality data!).\n",
    "\n",
    "# Fit and transform x to visualise inside a 2D feature space. What does this \n",
    "# mean? It means we take the original data from the higher dimensional space,\n",
    "# and apply the principal component analysis output, to reduce it to just 2\n",
    "# dimensions.\n",
    "#\n",
    "# For more details of this function checkout,\n",
    "# http://scikit-learn.org/stable/modules/generated/sklearn.decomposition.PCA.html\n",
    "X_vis = pca.fit_transform(X)\n",
    "\n",
    "# Now apply the random under-sampling method.\n",
    "#\n",
    "# return_indices : bool, optional (default=False)\n",
    "# Whether or not to return the indices of the samples randomly selected\n",
    "# from the majority class.\n",
    "#\n",
    "# We need the indices of the selected majority class exmaples for plotting.\n",
    "rus = RandomUnderSampler(ratio=0.8,return_indices=True)\n",
    "\n",
    "# Produce the resampled data sets for X and Y\n",
    "X_resampled, y_resampled, idx_resampled = rus.fit_sample(X, y)\n",
    "\n",
    "# Now apply the same PCA as earlier, to get the reseampled X data,\n",
    "# in to the 2D space.\n",
    "X_res_vis = pca.transform(X_resampled)\n",
    "\n",
    "fig = plt.figure()\n",
    "ax = fig.add_subplot(1, 1, 1)\n",
    "\n",
    "idx_samples_removed = np.setdiff1d(np.arange(X_vis.shape[0]),\n",
    "                                   idx_resampled)\n",
    "\n",
    "idx_class_0 = y_resampled == 0\n",
    "\n",
    "# Here we add the scatter points for each class, using an alpha\n",
    "# of 0.8. so they have some transparency.\n",
    "plt.scatter(X_res_vis[idx_class_0, 0], X_res_vis[idx_class_0, 1],\n",
    "            alpha=.8, label='Class #0')\n",
    "plt.scatter(X_res_vis[~idx_class_0, 0], X_res_vis[~idx_class_0, 1],\n",
    "            alpha=.8, label='Class #1')\n",
    "plt.scatter(X_vis[idx_samples_removed, 0], X_vis[idx_samples_removed, 1],\n",
    "            alpha=.8, label='Removed samples')\n",
    "\n",
    "# Build the plot\n",
    "ax.spines['top'].set_visible(False)\n",
    "ax.spines['right'].set_visible(False)\n",
    "ax.get_xaxis().tick_bottom()\n",
    "ax.get_yaxis().tick_left()\n",
    "ax.spines['left'].set_position(('outward', 10))\n",
    "ax.spines['bottom'].set_position(('outward', 10))\n",
    "ax.set_xlim([-6, 6])\n",
    "ax.set_ylim([-6, 6])\n",
    "\n",
    "# Make it visible...\n",
    "plt.title('Under-sampling using random under-sampling')\n",
    "plt.legend()\n",
    "plt.tight_layout()\n",
    "plt.show()\n",
    "\n",
    "# To help understand whats happened, lets double check the\n",
    "# sizes of the variables involved.\n",
    "\n",
    "print (\"Size of the variables involved\")\n",
    "print (\"y length: \",len(y))\n",
    "print (\"X length: \",len(X))\n",
    "\n",
    "print (\"y resampled length: \",len(y_resampled))\n",
    "print (\"x resampled length: \",len(X_resampled))\n"
   ]
  },
  {
   "cell_type": "markdown",
   "metadata": {},
   "source": [
    "But how does under-sampling affect classification performance on this data? There are some experiments we can do. But we also need an evaluation metric insensitive to class skew. \n",
    "\n",
    "The G-Mean is not sensitive to class distributions. It describes the ratio of positive to negative accuracy irrespective of class size. We'll use it here along with some other standard metrics.\n"
   ]
  },
  {
   "cell_type": "markdown",
   "metadata": {},
   "source": [
    "\\begin{equation}\n",
    "\\textrm{G-Mean} = \\sqrt{\\frac{TP}{TP+FN}\\times \\frac{TN}{TN+FP}}\n",
    "\\end{equation}"
   ]
  },
  {
   "cell_type": "markdown",
   "metadata": {},
   "source": [
    "There are two simple experiments to try now.\n",
    "\n",
    "1. Test how well a simple classifier performs on the original data.\n",
    "2. Compare that to how well the same classifier performs on the randomly undersampled data."
   ]
  },
  {
   "cell_type": "code",
   "execution_count": 8,
   "metadata": {
    "collapsed": false
   },
   "outputs": [
    {
     "name": "stdout",
     "output_type": "stream",
     "text": [
      "\n",
      "Examples in training set:  400\n",
      "Examples in testing set:  400\n",
      "Dimensions of training set:  (400, 20)\n",
      "Dimensions of testing set:  (400, 20)\n",
      "\n",
      "Accuracy : 0.945\n",
      "Recall   : 0.976253298153\n",
      "Precision: 0.966057441253\n",
      "F1 Score : 0.971128608924\n",
      "\n",
      "Custom accuracy:  0.945\n",
      "Recall   : 0.9660574412532638\n",
      "Precision: 0.9762532981530343\n",
      "F1 Score : 0.9711286089238845\n",
      "G-mean   : 0.6742516343859495\n",
      "\n",
      " The outputs should match - but look a the G-mean... that's very low.\n"
     ]
    }
   ],
   "source": [
    "# We have a couple of relevant data sources. There is,\n",
    "#\n",
    "# X - the input data.\n",
    "# y - the labels corresponding to the examples in X\n",
    "# X_resampled - the randomly undersampled version of X.\n",
    "# y_resampled - the labels corresponding to the examples in X_resampled\n",
    "#\n",
    "#\n",
    "# There is then a simple experiment we can do:\n",
    "#\n",
    "# 1. Test how well a simple classifier performs on the original data.\n",
    "# 2. Compare that to how well the same classifier performs on the \n",
    "#    randomly undersampled data.\n",
    "#\n",
    "# For each test we have to build and evaluate a seaprate classifier.\n",
    "# For simplicity we use the Naive Bayes classifier, for details see:\n",
    "# https://en.wikipedia.org/wiki/Naive_Bayes_classifier\n",
    "\n",
    "# Experiment 1a.\n",
    "\n",
    "# First lets get our inputs together.\n",
    "X_before = X\n",
    "Y_before = y\n",
    "\n",
    "# Now lets generate test and training sets from the data before\n",
    "# random undersampling was applied. We use the function,\n",
    "# train_test_split() to do this. The parameter test_size simply\n",
    "# insicates what proportion of the data should be used for the\n",
    "# training set. Here we simply say half in the training set, \n",
    "# half in the test set.\n",
    "\n",
    "from sklearn.model_selection import train_test_split\n",
    "\n",
    "x_train, x_test, y_train, y_test = train_test_split(X_before, Y_before, test_size=0.5)\n",
    "\n",
    "print ('\\nExamples in training set: ' , str(len(x_train)))\n",
    "print ('Examples in testing set: ' , str(len(x_test)))\n",
    "print ('Dimensions of training set: ' , str(np.asarray(x_train).shape))\n",
    "print ('Dimensions of testing set: ' , str(np.asarray(x_test).shape)) \n",
    "\n",
    "from sklearn.naive_bayes import GaussianNB\n",
    "\n",
    "classifier = GaussianNB()\n",
    "\n",
    "# First train the classifier with call to fit.\n",
    "classifier.fit(x_train, y_train)\n",
    "\n",
    "# Now make some predcitions for the likely labels\n",
    "# using the trained classifier.\n",
    "y_predicted = classifier.predict(x_test)\n",
    "\n",
    "# If we import some metrics we can evaluate the results.\n",
    "from sklearn.metrics import accuracy_score\n",
    "from sklearn.metrics import f1_score\n",
    "from sklearn.metrics import precision_score\n",
    "from sklearn.metrics import recall_score\n",
    "from sklearn.metrics import confusion_matrix\n",
    "\n",
    "print (\"\\nAccuracy :\", accuracy_score(y_test,y_predicted))\n",
    "print (\"Recall   :\", recall_score(y_test,y_predicted))\n",
    "print (\"Precision:\", precision_score(y_test,y_predicted))\n",
    "print (\"F1 Score :\", f1_score(y_test,y_predicted))\n",
    "\n",
    "# Next we can get the confusion matrix:\n",
    "cm = confusion_matrix(y_test,y_predicted)\n",
    "\n",
    "# I have provided my own custom class that can be used to\n",
    "# evaluate classifier performance. I use this now to verify the\n",
    "# values obtained above, and to obtain the G-mean. This is a\n",
    "# metric insensitive to the imbalance. This custom class expects a\n",
    "# confusion matrix as an input, with the following formatting:\n",
    "#                               \n",
    "# [[TN   FN]\n",
    "# [ FP  TP]]\n",
    "\n",
    "# Import custom code\n",
    "from EvaluationStats import ClassifierStats\n",
    "\n",
    "# Create object\n",
    "stats = ClassifierStats(cm)\n",
    "\n",
    "# Print the results\n",
    "print (\"\\nCustom accuracy: \", stats.getAccuracy())\n",
    "print (\"Recall   :\", stats.getRecall())\n",
    "print (\"Precision:\", stats.getPrecision())\n",
    "print (\"F1 Score :\", stats.getfScore())\n",
    "print (\"G-mean   :\", stats.getGMean())\n",
    "\n",
    "print(\"\\n The outputs should match - but look a the G-mean... that's very low.\")\n",
    "# You'll notice the custom results are more precise.   "
   ]
  },
  {
   "cell_type": "markdown",
   "metadata": {},
   "source": [
    "Now we determine how under-sampling impacts performance."
   ]
  },
  {
   "cell_type": "code",
   "execution_count": 9,
   "metadata": {
    "collapsed": false
   },
   "outputs": [
    {
     "name": "stdout",
     "output_type": "stream",
     "text": [
      "\n",
      "Examples in training set:  45\n",
      "Examples in testing set:  45\n",
      "Dimensions of training set:  (45, 20)\n",
      "Dimensions of testing set:  (45, 20)\n",
      "\n",
      "Accuracy : 0.844444444444\n",
      "Recall   : 0.84\n",
      "Precision: 0.875\n",
      "F1 Score : 0.857142857143\n",
      "\n",
      "Custom accuracy:  0.8444444444444444\n",
      "Recall   : 0.875\n",
      "Precision: 0.84\n",
      "F1 Score : 0.8571428571428572\n",
      "G-mean   : 0.8416254115301732\n",
      "\n",
      " The outputs should match - and the G-mean has increased - sampling has made it easier to find the minority class.\n"
     ]
    }
   ],
   "source": [
    "# Experiment 2a.\n",
    "# We do the same as before, except with the undersampled data.\n",
    "\n",
    "# Let's get our inputs together.\n",
    "X_after  = X_resampled\n",
    "Y_after  = y_resampled\n",
    "\n",
    "# Now lets generate test and training sets from the data before\n",
    "# random undersampling was applied. We use the function,\n",
    "# train_test_split() to do this. The parameter test_size simply\n",
    "# insicates what proportion of the data should be used for the\n",
    "# training set. Here we simply say half in the training set, \n",
    "# half in the test set.\n",
    "\n",
    "from sklearn.model_selection import train_test_split\n",
    "\n",
    "x_train, x_test, y_train, y_test = train_test_split(X_after, Y_after, test_size=0.5)\n",
    "\n",
    "print ('\\nExamples in training set: ' , str(len(x_train)))\n",
    "print ('Examples in testing set: ' , str(len(x_test)))\n",
    "print ('Dimensions of training set: ' , str(np.asarray(x_train).shape))\n",
    "print ('Dimensions of testing set: ' , str(np.asarray(x_test).shape)) \n",
    "\n",
    "from sklearn.naive_bayes import GaussianNB\n",
    "\n",
    "classifier = GaussianNB()\n",
    "\n",
    "# First train the classifier with call to fit.\n",
    "classifier.fit(x_train, y_train)\n",
    "\n",
    "# Now make some predcitions for the likely labels\n",
    "# using the trained classifier.\n",
    "y_predicted = classifier.predict(x_test)\n",
    "\n",
    "# If we import some metrics we can evaluate the results.\n",
    "from sklearn.metrics import accuracy_score\n",
    "from sklearn.metrics import f1_score\n",
    "from sklearn.metrics import precision_score\n",
    "from sklearn.metrics import recall_score\n",
    "from sklearn.metrics import confusion_matrix\n",
    "\n",
    "print (\"\\nAccuracy :\", accuracy_score(y_test,y_predicted))\n",
    "print (\"Recall   :\", recall_score(y_test,y_predicted))\n",
    "print (\"Precision:\", precision_score(y_test,y_predicted))\n",
    "print (\"F1 Score :\", f1_score(y_test,y_predicted))\n",
    "\n",
    "# Next we can get the confusion matrix:\n",
    "cm = confusion_matrix(y_test,y_predicted)\n",
    "\n",
    "# I have provided my own custom class that can be used to\n",
    "# evaluate classifier performance. I use this now to verify the\n",
    "# values obtained above, and to obtain the G-mean. This is a\n",
    "# metric insensitive to the imbalance. This custom class expects a\n",
    "# confusion matrix as an input, with the following formatting:\n",
    "#                               \n",
    "# [[TN   FN]\n",
    "# [ FP  TP]]\n",
    "\n",
    "# Import custom code\n",
    "from EvaluationStats import ClassifierStats\n",
    "\n",
    "# Create object\n",
    "stats = ClassifierStats(cm)\n",
    "\n",
    "# Print the results\n",
    "print (\"\\nCustom accuracy: \", stats.getAccuracy())\n",
    "print (\"Recall   :\", stats.getRecall())\n",
    "print (\"Precision:\", stats.getPrecision())\n",
    "print (\"F1 Score :\", stats.getfScore())\n",
    "print (\"G-mean   :\", stats.getGMean())\n",
    "\n",
    "print(\"\\n The outputs should match - and the G-mean has increased - sampling has made it easier to find the minority class.\")\n",
    "# You'll notice the custom results are more precise. "
   ]
  },
  {
   "cell_type": "markdown",
   "metadata": {},
   "source": [
    "We see the G-mean improve between experiment 1 and experiment 2. Thus under-sampling has made it easier to identify the minority class. However the results are not great. Accuracy has dropped - but that's ok. You now have to take into consideration that in experiment 1, there were 400 examples in the training set. Whilst in experiment 2, there were only 90 examples. Thus in experiment 2 there was much less information to learn from. The key then is to carefully under-sample, without removing examples that contain a lot of information."
   ]
  },
  {
   "cell_type": "markdown",
   "metadata": {},
   "source": [
    "### Random Over-sampling\n",
    "\n",
    "In Random Over-sampling (RUS), minority class are instances are randomly dupliacted to balance the class distribution. Suppose we begin with data as shown in the image below."
   ]
  },
  {
   "cell_type": "markdown",
   "metadata": {},
   "source": [
    "<img src=\"images/png/Oversample_before.png\" width=\"200\">"
   ]
  },
  {
   "cell_type": "markdown",
   "metadata": {},
   "source": [
    "The goal is to randomly over-sample producing a more balanced data set:"
   ]
  },
  {
   "cell_type": "markdown",
   "metadata": {},
   "source": [
    "<img src=\"images/png/OversampleAfter.png\" width=\"200\">"
   ]
  },
  {
   "cell_type": "markdown",
   "metadata": {},
   "source": [
    "So how does this over-sampling affect classification performance? We'll use the G-mean again, and mostly the same code to keep things simple. First we'll create some new data. This time we'll make the imbalanced worse. We'll use a 1:20 ratio, i.e. there are 20 majority class examples for each minority class example. In total 800 examples will be created."
   ]
  },
  {
   "cell_type": "code",
   "execution_count": 10,
   "metadata": {
    "collapsed": false
   },
   "outputs": [
    {
     "data": {
      "image/png": "[encoded data removed]",
      "text/plain": [
       "<matplotlib.figure.Figure at 0x119002898>"
      ]
     },
     "metadata": {},
     "output_type": "display_data"
    },
    {
     "name": "stdout",
     "output_type": "stream",
     "text": [
      "Size of the variables involved\n",
      "y length:  800\n",
      "X length:  800\n",
      "y resampled length:  1520\n",
      "x resampled length:  1520\n"
     ]
    }
   ],
   "source": [
    "# This is a modified version of the code originally \n",
    "# written by Christos Aridas and Guillaume Lemaitre\n",
    "# <g.lemaitre58@gmail.com>, released under the MIT\n",
    "# License.\n",
    "\n",
    "# The code that actually does the random oversampling.\n",
    "from imblearn.over_sampling import RandomOverSampler\n",
    "\n",
    "# Make a dataset, same as before.\n",
    "X, y = make_classification(n_classes=2, class_sep=1, weights=[0.05, 0.95],\n",
    "                           n_informative=3, n_redundant=1, flip_y=0,\n",
    "                           n_features=20  , n_clusters_per_class=1,\n",
    "                           n_samples=800  , random_state=10)\n",
    "\n",
    "# Used to more easily visualise the data, as before.\n",
    "pca = PCA(n_components=2)\n",
    "X_vis = pca.fit_transform(X)\n",
    "\n",
    "# Now apply the random over-sampling method...\n",
    "ros = RandomOverSampler(ratio='minority')\n",
    "\n",
    "# Produce the resampled data sets for X and Y\n",
    "X_resampled, y_resampled = ros.fit_sample(X, y)\n",
    "\n",
    "# Now apply the same PCA as earlier, to get the reseampled X data,\n",
    "# in to the 2D space.\n",
    "X_res_vis = pca.transform(X_resampled)\n",
    "\n",
    "X_resampled, y_resampled = ros.fit_sample(X, y)\n",
    "X_res_vis = pca.transform(X_resampled)\n",
    "\n",
    "# Two subplots, unpack the axes array immediately\n",
    "f, (ax1, ax2) = plt.subplots(1, 2)\n",
    "\n",
    "c0 = ax1.scatter(X_vis[y == 0, 0], X_vis[y == 0, 1], label=\"Class #0\",\n",
    "                 alpha=0.5)\n",
    "c1 = ax1.scatter(X_vis[y == 1, 0], X_vis[y == 1, 1], label=\"Class #1\",\n",
    "                 alpha=0.5)\n",
    "ax1.set_title('Original set')\n",
    "\n",
    "ax2.scatter(X_res_vis[y_resampled == 0, 0], X_res_vis[y_resampled == 0, 1],\n",
    "            label=\"Class #0\", alpha=.5)\n",
    "ax2.scatter(X_res_vis[y_resampled == 1, 0], X_res_vis[y_resampled == 1, 1],\n",
    "            label=\"Class #1\", alpha=.5)\n",
    "ax2.set_title('Random over-sampling')\n",
    "\n",
    "# Make a nice plot.\n",
    "for ax in (ax1, ax2):\n",
    "    ax.spines['top'].set_visible(False)\n",
    "    ax.spines['right'].set_visible(False)\n",
    "    ax.get_xaxis().tick_bottom()\n",
    "    ax.get_yaxis().tick_left()\n",
    "    ax.spines['left'].set_position(('outward', 10))\n",
    "    ax.spines['bottom'].set_position(('outward', 10))\n",
    "    ax.set_xlim([-6, 8])\n",
    "    ax.set_ylim([-6, 6])\n",
    "\n",
    "# Show the plot.\n",
    "plt.figlegend((c0, c1), ('Class #0', 'Class #1'), loc='lower center',\n",
    "              ncol=2, labelspacing=0.)\n",
    "plt.tight_layout(pad=3)\n",
    "plt.show()\n",
    "\n",
    "# To help understand whats happened, lets double check the\n",
    "# sizes of the variables involved.\n",
    "\n",
    "print (\"Size of the variables involved\")\n",
    "print (\"y length: \",len(y))\n",
    "print (\"X length: \",len(X))\n",
    "\n",
    "print (\"y resampled length: \",len(y_resampled))\n",
    "print (\"x resampled length: \",len(X_resampled))\n",
    "\n"
   ]
  },
  {
   "cell_type": "markdown",
   "metadata": {},
   "source": [
    "As before, lets do two experiments to better understand how classifier accuracy is impacted by over-sampling."
   ]
  },
  {
   "cell_type": "code",
   "execution_count": 11,
   "metadata": {
    "collapsed": false
   },
   "outputs": [
    {
     "name": "stdout",
     "output_type": "stream",
     "text": [
      "\n",
      "Examples in training set:  400\n",
      "Examples in testing set:  400\n",
      "Dimensions of training set:  (400, 20)\n",
      "Dimensions of testing set:  (400, 20)\n",
      "\n",
      "Accuracy : 0.945\n",
      "Recall   : 0.965968586387\n",
      "Precision: 0.97619047619\n",
      "F1 Score : 0.971052631579\n",
      "\n",
      "Custom accuracy:  0.945\n",
      "Recall   : 0.9761904761904762\n",
      "Precision: 0.9659685863874345\n",
      "F1 Score : 0.9710526315789474\n",
      "G-mean   : 0.6319419667585382\n",
      "\n",
      " The outputs should match - but look a the G-mean... thats pretty much Zero!\n"
     ]
    }
   ],
   "source": [
    "# Experiment 1b.\n",
    "\n",
    "# First lets get our inputs together.\n",
    "X_before = X\n",
    "Y_before = y\n",
    "\n",
    "from sklearn.model_selection import train_test_split\n",
    "\n",
    "x_train, x_test, y_train, y_test = train_test_split(X_before, Y_before, test_size=0.5)\n",
    "\n",
    "print ('\\nExamples in training set: ' , str(len(x_train)))\n",
    "print ('Examples in testing set: ' , str(len(x_test)))\n",
    "print ('Dimensions of training set: ' , str(np.asarray(x_train).shape))\n",
    "print ('Dimensions of testing set: ' , str(np.asarray(x_test).shape)) \n",
    "\n",
    "from sklearn.naive_bayes import GaussianNB\n",
    "\n",
    "classifier = GaussianNB()\n",
    "\n",
    "# First train the classifier with call to fit.\n",
    "classifier.fit(x_train, y_train)\n",
    "\n",
    "# Now make some predcitions for the likely labels\n",
    "# using the trained classifier.\n",
    "y_predicted = classifier.predict(x_test)\n",
    "\n",
    "# If we import some metrics we can evaluate the results.\n",
    "from sklearn.metrics import accuracy_score\n",
    "from sklearn.metrics import f1_score\n",
    "from sklearn.metrics import precision_score\n",
    "from sklearn.metrics import recall_score\n",
    "from sklearn.metrics import confusion_matrix\n",
    "\n",
    "print (\"\\nAccuracy :\", accuracy_score(y_test,y_predicted))\n",
    "print (\"Recall   :\", recall_score(y_test,y_predicted))\n",
    "print (\"Precision:\", precision_score(y_test,y_predicted))\n",
    "print (\"F1 Score :\", f1_score(y_test,y_predicted))\n",
    "\n",
    "# Next we can get the confusion matrix:\n",
    "cm = confusion_matrix(y_test,y_predicted)\n",
    "\n",
    "# I have provided my own custom class that can be used to\n",
    "# evaluate classifier performance. I use this now to verify the\n",
    "# values obtained above, and to obtain the G-mean. This is a\n",
    "# metric insensitive to the imbalance. This custom class expects a\n",
    "# confusion matrix as an input, with the following formatting:\n",
    "#                               \n",
    "# [[TN   FN]\n",
    "# [ FP  TP]]\n",
    "\n",
    "# Import custom code\n",
    "from EvaluationStats import ClassifierStats\n",
    "\n",
    "# Create object\n",
    "stats = ClassifierStats(cm)\n",
    "\n",
    "# Print the results\n",
    "print (\"\\nCustom accuracy: \", stats.getAccuracy())\n",
    "print (\"Recall   :\", stats.getRecall())\n",
    "print (\"Precision:\", stats.getPrecision())\n",
    "print (\"F1 Score :\", stats.getfScore())\n",
    "print (\"G-mean   :\", stats.getGMean())\n",
    "\n",
    "print(\"\\n The outputs should match - but look a the G-mean... thats pretty much Zero!\")\n",
    "# You'll notice the custom results are more precise.   "
   ]
  },
  {
   "cell_type": "markdown",
   "metadata": {},
   "source": [
    "Now lets see what over-sampling the minority class did."
   ]
  },
  {
   "cell_type": "code",
   "execution_count": 12,
   "metadata": {
    "collapsed": false
   },
   "outputs": [
    {
     "name": "stdout",
     "output_type": "stream",
     "text": [
      "\n",
      "Examples in training set:  760\n",
      "Examples in testing set:  760\n",
      "Dimensions of training set:  (760, 20)\n",
      "Dimensions of testing set:  (760, 20)\n",
      "\n",
      "Accuracy : 0.872368421053\n",
      "Recall   : 0.859459459459\n",
      "Precision: 0.876033057851\n",
      "F1 Score : 0.867667121419\n",
      "\n",
      "Custom accuracy:  0.8723684210526316\n",
      "Recall   : 0.8760330578512396\n",
      "Precision: 0.8594594594594595\n",
      "F1 Score : 0.8676671214188268\n",
      "G-mean   : 0.872518294191841\n",
      "\n",
      " The outputs should match - and the G-mean has improved.\n"
     ]
    }
   ],
   "source": [
    "# Experiment 2b.\n",
    "\n",
    "# Let's get our inputs together.\n",
    "X_after  = X_resampled\n",
    "Y_after  = y_resampled\n",
    "\n",
    "# Now lets generate test and training sets from the data before\n",
    "# random undersampling was applied. We use the function,\n",
    "# train_test_split() to do this. The parameter test_size simply\n",
    "# insicates what proportion of the data should be used for the\n",
    "# training set. Here we simply say half in the training set, \n",
    "# half in the test set.\n",
    "\n",
    "from sklearn.model_selection import train_test_split\n",
    "\n",
    "x_train, x_test, y_train, y_test = train_test_split(X_after, Y_after, test_size=0.5)\n",
    "\n",
    "print ('\\nExamples in training set: ' , str(len(x_train)))\n",
    "print ('Examples in testing set: ' , str(len(x_test)))\n",
    "print ('Dimensions of training set: ' , str(np.asarray(x_train).shape))\n",
    "print ('Dimensions of testing set: ' , str(np.asarray(x_test).shape)) \n",
    "\n",
    "from sklearn.naive_bayes import GaussianNB\n",
    "\n",
    "classifier = GaussianNB()\n",
    "\n",
    "# First train the classifier with call to fit.\n",
    "classifier.fit(x_train, y_train)\n",
    "\n",
    "# Now make some predcitions for the likely labels\n",
    "# using the trained classifier.\n",
    "y_predicted = classifier.predict(x_test)\n",
    "\n",
    "# If we import some metrics we can evaluate the results.\n",
    "from sklearn.metrics import accuracy_score\n",
    "from sklearn.metrics import f1_score\n",
    "from sklearn.metrics import precision_score\n",
    "from sklearn.metrics import recall_score\n",
    "from sklearn.metrics import confusion_matrix\n",
    "\n",
    "print (\"\\nAccuracy :\", accuracy_score(y_test,y_predicted))\n",
    "print (\"Recall   :\", recall_score(y_test,y_predicted))\n",
    "print (\"Precision:\", precision_score(y_test,y_predicted))\n",
    "print (\"F1 Score :\", f1_score(y_test,y_predicted))\n",
    "\n",
    "# Next we can get the confusion matrix:\n",
    "cm = confusion_matrix(y_test,y_predicted)\n",
    "\n",
    "# I have provided my own custom class that can be used to\n",
    "# evaluate classifier performance. I use this now to verify the\n",
    "# values obtained above, and to obtain the G-mean. This is a\n",
    "# metric insensitive to the imbalance. This custom class expects a\n",
    "# confusion matrix as an input, with the following formatting:\n",
    "#                               \n",
    "# [[TN   FN]\n",
    "# [ FP  TP]]\n",
    "\n",
    "# Import custom code\n",
    "from EvaluationStats import ClassifierStats\n",
    "\n",
    "# Create object\n",
    "stats = ClassifierStats(cm)\n",
    "\n",
    "# Print the results\n",
    "print (\"\\nCustom accuracy: \", stats.getAccuracy())\n",
    "print (\"Recall   :\", stats.getRecall())\n",
    "print (\"Precision:\", stats.getPrecision())\n",
    "print (\"F1 Score :\", stats.getfScore())\n",
    "print (\"G-mean   :\", stats.getGMean())\n",
    "\n",
    "print(\"\\n The outputs should match - and the G-mean has improved.\")\n",
    "# You'll notice the custom results are more precise. "
   ]
  },
  {
   "cell_type": "markdown",
   "metadata": {},
   "source": [
    "Once again we can see that re-sampling has greatly improved the G-mean. At the same time, it's becoming clear that there's a trade-off between accuracy and the G-mean. This is the case. If a classifier is more likely to predict the minority class, then it is more likely to make false positive predictions. Perhaps targeted sampling will help?"
   ]
  },
  {
   "cell_type": "markdown",
   "metadata": {},
   "source": [
    "### Targeted Sampling\n",
    "\n",
    "There are many methods that can be used to achieve targeted re-sampling. We consider just one here called One Sided Selection (OSS, Kubat & Matwin, 1997). OSS under-samples the majority class 'intelligently'. It does so by removing instances considered noisy, borderline, or redundant. This assumes noisy examples overwhelm the minority class, thus by removing them an improvement in performance can be achieved. The OSS approach tries to remove the unhelpful examples using Tomek links. Given two instances $x_{1}$ and $x_{2}$, each with a different class label, denote by $\\Phi(x_{1},x_{2})$ the distance between them. The pair $(x_{1},x_{2})$ is called a Tomek link (Tomek, 1976), if there exists no instance $x_{3}$ such that $\\Phi(x_{1},x_{3})<\\Phi(x_{1},x_{2})$ or $\\Phi(x_{2},x_{3})<\\Phi(x_{2},x_{1})$. This is shown in the image below. If an instance is part of such a link, then it is considered to be borderline or noisy and removed.\n"
   ]
  },
  {
   "cell_type": "markdown",
   "metadata": {},
   "source": [
    "<img src=\"images/png/TomekLink.png\" width=\"300\">"
   ]
  },
  {
   "cell_type": "markdown",
   "metadata": {},
   "source": [
    "Lets create some new data, and test out OSS. We'll use an imbalance ratio of 1 to 20, and generate 800 examples."
   ]
  },
  {
   "cell_type": "code",
   "execution_count": 13,
   "metadata": {
    "collapsed": false
   },
   "outputs": [
    {
     "data": {
      "image/png": "[encoded data removed]",
      "text/plain": [
       "<matplotlib.figure.Figure at 0x118e4b908>"
      ]
     },
     "metadata": {},
     "output_type": "display_data"
    }
   ],
   "source": [
    "# This is a modified version of the code originally \n",
    "# written by Christos Aridas and Guillaume Lemaitre\n",
    "# <g.lemaitre58@gmail.com>, released under the MIT\n",
    "# License.\n",
    "\n",
    "from imblearn.under_sampling import OneSidedSelection\n",
    "\n",
    "# Generate the dataset\n",
    "X, y = make_classification(n_classes=2, class_sep=1, weights=[0.05, 0.95],\n",
    "                           n_informative=3, n_redundant=1, flip_y=0,\n",
    "                           n_features=20, n_clusters_per_class=1,\n",
    "                           n_samples=800, random_state=10)\n",
    "\n",
    "# To make visualisation easier.\n",
    "pca = PCA(n_components=2)\n",
    "X_vis = pca.fit_transform(X)\n",
    "\n",
    "# Apply One-Sided Selection\n",
    "oss = OneSidedSelection(return_indices=True)\n",
    "\n",
    "# Perform the sampling\n",
    "X_resampled, y_resampled, idx_resampled = oss.fit_sample(X, y)\n",
    "\n",
    "# Transform to 2D space.\n",
    "X_res_vis = pca.transform(X_resampled)\n",
    "\n",
    "# Create a plot...\n",
    "fig = plt.figure()\n",
    "ax = fig.add_subplot(1, 1, 1)\n",
    "\n",
    "idx_samples_removed = np.setdiff1d(np.arange(X_vis.shape[0]),\n",
    "                                   idx_resampled)\n",
    "\n",
    "idx_class_0 = y_resampled == 0\n",
    "plt.scatter(X_res_vis[idx_class_0, 0], X_res_vis[idx_class_0, 1],\n",
    "            alpha=.8, label='Class #0')\n",
    "plt.scatter(X_res_vis[~idx_class_0, 0], X_res_vis[~idx_class_0, 1],\n",
    "            alpha=.8, label='Class #1')\n",
    "plt.scatter(X_vis[idx_samples_removed, 0], X_vis[idx_samples_removed, 1],\n",
    "            alpha=.8, label='Removed samples')\n",
    "\n",
    "ax.spines['top'].set_visible(False)\n",
    "ax.spines['right'].set_visible(False)\n",
    "ax.get_xaxis().tick_bottom()\n",
    "ax.get_yaxis().tick_left()\n",
    "ax.spines['left'].set_position(('outward', 10))\n",
    "ax.spines['bottom'].set_position(('outward', 10))\n",
    "ax.set_xlim([-6, 6])\n",
    "ax.set_ylim([-6, 6])\n",
    "\n",
    "# Show the plot\n",
    "plt.title('Under-sampling using one-sided selection')\n",
    "plt.legend()\n",
    "plt.tight_layout()\n",
    "plt.show()"
   ]
  },
  {
   "cell_type": "markdown",
   "metadata": {},
   "source": [
    "Now we determine what classification performance is like, prior to applying OSS."
   ]
  },
  {
   "cell_type": "code",
   "execution_count": 14,
   "metadata": {
    "collapsed": false
   },
   "outputs": [
    {
     "name": "stdout",
     "output_type": "stream",
     "text": [
      "\n",
      "Examples in training set:  400\n",
      "Examples in testing set:  400\n",
      "Dimensions of training set:  (400, 20)\n",
      "Dimensions of testing set:  (400, 20)\n",
      "\n",
      "Accuracy : 0.9375\n",
      "Recall   : 0.970976253298\n",
      "Precision: 0.96335078534\n",
      "F1 Score : 0.96714848883\n",
      "\n",
      "Custom accuracy:  0.9375\n",
      "Recall   : 0.9633507853403142\n",
      "Precision: 0.9709762532981531\n",
      "F1 Score : 0.9671484888304862\n",
      "G-mean   : 0.6120754990368699\n",
      "\n",
      " The outputs should match - but look a the G-mean... thats poor!\n"
     ]
    }
   ],
   "source": [
    "# Experiment 1c.\n",
    "\n",
    "# First lets get our inputs together.\n",
    "X_before = X\n",
    "Y_before = y\n",
    "\n",
    "from sklearn.model_selection import train_test_split\n",
    "\n",
    "x_train, x_test, y_train, y_test = train_test_split(X_before, Y_before, test_size=0.5)\n",
    "\n",
    "print ('\\nExamples in training set: ' , str(len(x_train)))\n",
    "print ('Examples in testing set: ' , str(len(x_test)))\n",
    "print ('Dimensions of training set: ' , str(np.asarray(x_train).shape))\n",
    "print ('Dimensions of testing set: ' , str(np.asarray(x_test).shape)) \n",
    "\n",
    "from sklearn.naive_bayes import GaussianNB\n",
    "\n",
    "classifier = GaussianNB()\n",
    "\n",
    "# First train the classifier with call to fit.\n",
    "classifier.fit(x_train, y_train)\n",
    "\n",
    "# Now make some predcitions for the likely labels\n",
    "# using the trained classifier.\n",
    "y_predicted = classifier.predict(x_test)\n",
    "\n",
    "# If we import some metrics we can evaluate the results.\n",
    "from sklearn.metrics import accuracy_score\n",
    "from sklearn.metrics import f1_score\n",
    "from sklearn.metrics import precision_score\n",
    "from sklearn.metrics import recall_score\n",
    "from sklearn.metrics import confusion_matrix\n",
    "\n",
    "print (\"\\nAccuracy :\", accuracy_score(y_test,y_predicted))\n",
    "print (\"Recall   :\", recall_score(y_test,y_predicted))\n",
    "print (\"Precision:\", precision_score(y_test,y_predicted))\n",
    "print (\"F1 Score :\", f1_score(y_test,y_predicted))\n",
    "\n",
    "# Next we can get the confusion matrix:\n",
    "cm = confusion_matrix(y_test,y_predicted)\n",
    "\n",
    "# I have provided my own custom class that can be used to\n",
    "# evaluate classifier performance. I use this now to verify the\n",
    "# values obtained above, and to obtain the G-mean. This is a\n",
    "# metric insensitive to the imbalance. This custom class expects a\n",
    "# confusion matrix as an input, with the following formatting:\n",
    "#                               \n",
    "# [[TN   FN]\n",
    "# [ FP  TP]]\n",
    "\n",
    "# Import custom code\n",
    "from EvaluationStats import ClassifierStats\n",
    "\n",
    "# Create object\n",
    "stats = ClassifierStats(cm)\n",
    "\n",
    "# Print the results\n",
    "print (\"\\nCustom accuracy: \", stats.getAccuracy())\n",
    "print (\"Recall   :\", stats.getRecall())\n",
    "print (\"Precision:\", stats.getPrecision())\n",
    "print (\"F1 Score :\", stats.getfScore())\n",
    "print (\"G-mean   :\", stats.getGMean())\n",
    "\n",
    "print(\"\\n The outputs should match - but look a the G-mean... thats poor!\")\n",
    "# You'll notice the custom results are more precise.   "
   ]
  },
  {
   "cell_type": "markdown",
   "metadata": {},
   "source": [
    "Now lets check what impact OSS had."
   ]
  },
  {
   "cell_type": "code",
   "execution_count": 15,
   "metadata": {
    "collapsed": false
   },
   "outputs": [
    {
     "name": "stdout",
     "output_type": "stream",
     "text": [
      "\n",
      "Examples in training set:  304\n",
      "Examples in testing set:  304\n",
      "Dimensions of training set:  (304, 20)\n",
      "Dimensions of testing set:  (304, 20)\n",
      "\n",
      "Accuracy : 0.921052631579\n",
      "Recall   : 0.958041958042\n",
      "Precision: 0.958041958042\n",
      "F1 Score : 0.958041958042\n",
      "\n",
      "Custom accuracy:  0.9210526315789473\n",
      "Recall   : 0.958041958041958\n",
      "Precision: 0.958041958041958\n",
      "F1 Score : 0.958041958041958\n",
      "G-mean   : 0.5651082368425709\n",
      "\n",
      " The outputs should match - and the G-mean has improved.\n"
     ]
    }
   ],
   "source": [
    "# Experiment 2c.\n",
    "\n",
    "# Let's get our inputs together.\n",
    "X_after  = X_resampled\n",
    "Y_after  = y_resampled\n",
    "\n",
    "# Now lets generate test and training sets from the data before\n",
    "# random undersampling was applied. We use the function,\n",
    "# train_test_split() to do this. The parameter test_size simply\n",
    "# insicates what proportion of the data should be used for the\n",
    "# training set. Here we simply say half in the training set, \n",
    "# half in the test set.\n",
    "\n",
    "from sklearn.model_selection import train_test_split\n",
    "\n",
    "x_train, x_test, y_train, y_test = train_test_split(X_after, Y_after, test_size=0.5)\n",
    "\n",
    "print ('\\nExamples in training set: ' , str(len(x_train)))\n",
    "print ('Examples in testing set: ' , str(len(x_test)))\n",
    "print ('Dimensions of training set: ' , str(np.asarray(x_train).shape))\n",
    "print ('Dimensions of testing set: ' , str(np.asarray(x_test).shape)) \n",
    "\n",
    "from sklearn.naive_bayes import GaussianNB\n",
    "\n",
    "classifier = GaussianNB()\n",
    "\n",
    "# First train the classifier with call to fit.\n",
    "classifier.fit(x_train, y_train)\n",
    "\n",
    "# Now make some predcitions for the likely labels\n",
    "# using the trained classifier.\n",
    "y_predicted = classifier.predict(x_test)\n",
    "\n",
    "# If we import some metrics we can evaluate the results.\n",
    "from sklearn.metrics import accuracy_score\n",
    "from sklearn.metrics import f1_score\n",
    "from sklearn.metrics import precision_score\n",
    "from sklearn.metrics import recall_score\n",
    "from sklearn.metrics import confusion_matrix\n",
    "\n",
    "print (\"\\nAccuracy :\", accuracy_score(y_test,y_predicted))\n",
    "print (\"Recall   :\", recall_score(y_test,y_predicted))\n",
    "print (\"Precision:\", precision_score(y_test,y_predicted))\n",
    "print (\"F1 Score :\", f1_score(y_test,y_predicted))\n",
    "\n",
    "# Next we can get the confusion matrix:\n",
    "cm = confusion_matrix(y_test,y_predicted)\n",
    "\n",
    "# I have provided my own custom class that can be used to\n",
    "# evaluate classifier performance. I use this now to verify the\n",
    "# values obtained above, and to obtain the G-mean. This is a\n",
    "# metric insensitive to the imbalance. This custom class expects a\n",
    "# confusion matrix as an input, with the following formatting:\n",
    "#                               \n",
    "# [[TN   FN]\n",
    "# [ FP  TP]]\n",
    "\n",
    "# Import custom code\n",
    "from EvaluationStats import ClassifierStats\n",
    "\n",
    "# Create object\n",
    "stats = ClassifierStats(cm)\n",
    "\n",
    "# Print the results\n",
    "print (\"\\nCustom accuracy: \", stats.getAccuracy())\n",
    "print (\"Recall   :\", stats.getRecall())\n",
    "print (\"Precision:\", stats.getPrecision())\n",
    "print (\"F1 Score :\", stats.getfScore())\n",
    "print (\"G-mean   :\", stats.getGMean())\n",
    "\n",
    "print(\"\\n The outputs should match - and the G-mean has improved.\")\n",
    "# You'll notice the custom results are more precise. "
   ]
  },
  {
   "cell_type": "markdown",
   "metadata": {},
   "source": [
    "Note that this time, the accuracy difference between the non-OSS and OSS results is only around 5%. Yet the G-mean has improved. That's a decent return for very little work."
   ]
  },
  {
   "cell_type": "markdown",
   "metadata": {},
   "source": [
    "### Artificial Examples\n",
    "There are many approaches available for building artificial data points. Perhaps the most popular right now are Generative Adversarial Networks (GANs). For simplicity, I'm only going to discuss a single standard method here.\n",
    "\n",
    "#### SMOTE\n",
    "The Synthetic Minority Over-sampling Technique (SMOTE,Chawla et. al., 2002), inserts synthetically generated minority class examples (based on existing minority examples) in to a sampled data set. It odes this to balance the class distribution. SMOTE uses $k$-nearest neighbours to determine which nearby examples are most similar to a minority class example. \n",
    "\n",
    "The nearest neighbours are then used to generate a new synthetic example. This is done by first choosing a template minority class example, near which a new synthetic example should be generated. A random nearest neighbour of this template is then chosen. The features of the neighbouring example are combined with the features of the template, to form an entirely new example. This process is repeated until the required number of synthetic examples have been created. The synthetic examples are combined with the real minority examples to form a new training set. SMOTE ultimately balances the training set by under-sampling the majority class via random omission, until the desired $IR$ is reached.\n"
   ]
  },
  {
   "cell_type": "markdown",
   "metadata": {},
   "source": [
    "<img src=\"images/png/SMOTE.png\" width=\"200\">"
   ]
  },
  {
   "cell_type": "markdown",
   "metadata": {},
   "source": [
    "As before lets create some data. As for OSS, We'll use an imbalance ratio of 1 to 20, but this time generate 500 examples."
   ]
  },
  {
   "cell_type": "code",
   "execution_count": 16,
   "metadata": {
    "collapsed": false
   },
   "outputs": [
    {
     "name": "stdout",
     "output_type": "stream",
     "text": [
      "\n",
      "SMOTE Method:  SMOTE(k=None, k_neighbors=5, kind='regular', m=None, m_neighbors=10, n_jobs=1,\n",
      "   out_step=0.5, random_state=None, ratio='auto', svm_estimator=None) \n",
      "\n",
      "Acc before    :  0.96400 Acc after    :  0.99579\n",
      "Rec. before   :  0.96281 Rec. after   :  1.00000\n",
      "Prec. before  :  1.00000 Prec. after  :  0.99184\n",
      "F1 before     :  0.98105 F1 after     :  0.99590\n",
      "G-mean before :  0.98123 G-mean after :  0.99568\n",
      "\n",
      "SMOTE Method:  SMOTE(k=None, k_neighbors=5, kind='borderline1', m=None, m_neighbors=10,\n",
      "   n_jobs=1, out_step=0.5, random_state=None, ratio='auto',\n",
      "   svm_estimator=None) \n",
      "\n",
      "Acc before    :  0.98800 Acc after    :  0.99789\n",
      "Rec. before   :  0.99578 Rec. after   :  1.00000\n",
      "Prec. before  :  0.99160 Prec. after  :  0.99574\n",
      "F1 before     :  0.99368 F1 after     :  0.99787\n",
      "G-mean before :  0.91792 G-mean after :  0.99792\n",
      "\n",
      "SMOTE Method:  SMOTE(k=None, k_neighbors=5, kind='borderline2', m=None, m_neighbors=10,\n",
      "   n_jobs=1, out_step=0.5, random_state=None, ratio='auto',\n",
      "   svm_estimator=None) \n",
      "\n",
      "Acc before    :  1.00000 Acc after    :  0.97474\n",
      "Rec. before   :  1.00000 Rec. after   :  0.97778\n",
      "Prec. before  :  1.00000 Prec. after  :  0.96916\n",
      "F1 before     :  1.00000 F1 after     :  0.97345\n",
      "G-mean before :  1.00000 G-mean after :  0.97488\n",
      "\n",
      "SMOTE Method:  SMOTE(k=None, k_neighbors=5, kind='svm', m=None, m_neighbors=10, n_jobs=1,\n",
      "   out_step=0.5, random_state=None, ratio='auto', svm_estimator=None) \n",
      "\n",
      "Acc before    :  0.99200 Acc after    :  1.00000\n",
      "Rec. before   :  1.00000 Rec. after   :  1.00000\n",
      "Prec. before  :  0.99174 Prec. after  :  1.00000\n",
      "F1 before     :  0.99585 F1 after     :  1.00000\n",
      "G-mean before :  0.89443 G-mean after :  1.00000\n"
     ]
    },
    {
     "data": {
      "image/png": "[encoded data removed]",
      "text/plain": [
       "<matplotlib.figure.Figure at 0x119180128>"
      ]
     },
     "metadata": {},
     "output_type": "display_data"
    }
   ],
   "source": [
    "# This is a modified version of the code originally \n",
    "# written by Fernando Nogueira, Christos Aridas and \n",
    "# Guillaume Lemaitre <g.lemaitre58@gmail.com>,\n",
    "# released under the MIT License.\n",
    "\n",
    "# This function is used to produce a more complicated SMOTE plot.\n",
    "def plot_resampling(ax, X, y, title):\n",
    "    c0 = ax.scatter(X[y == 0, 0], X[y == 0, 1], label=\"Class #0\", alpha=0.5)\n",
    "    c1 = ax.scatter(X[y == 1, 0], X[y == 1, 1], label=\"Class #1\", alpha=0.5)\n",
    "    ax.set_title(title)\n",
    "    ax.spines['top'].set_visible(False)\n",
    "    ax.spines['right'].set_visible(False)\n",
    "    ax.get_xaxis().tick_bottom()\n",
    "    ax.get_yaxis().tick_left()\n",
    "    ax.spines['left'].set_position(('outward', 10))\n",
    "    ax.spines['bottom'].set_position(('outward', 10))\n",
    "    ax.set_xlim([-6, 8])\n",
    "    ax.set_ylim([-6, 6])\n",
    "\n",
    "    return c0, c1\n",
    "\n",
    "from imblearn.over_sampling import SMOTE\n",
    "\n",
    "# Generate the dataset\n",
    "X, y = make_classification(n_classes=2, class_sep=2, weights=[0.05, 0.95],\n",
    "                           n_informative=3, n_redundant=1, flip_y=0,\n",
    "                           n_features=20, n_clusters_per_class=1,\n",
    "                           n_samples=500, random_state=10)\n",
    "\n",
    "# Instanciate a PCA object for the sake of easy visualisation\n",
    "pca = PCA(n_components=2)\n",
    "# Fit and transform x to visualise inside a 2D feature space\n",
    "X_vis = pca.fit_transform(X)\n",
    "\n",
    "\n",
    "# Note there a many varieties of SMOTE. I'll leave these\n",
    "# here to play with. \n",
    "kind = ['regular', 'borderline1', 'borderline2', 'svm']\n",
    "\n",
    "\n",
    "# Apply regular SMOTE\n",
    "sm = [SMOTE(kind=k) for k in kind]\n",
    "\n",
    "X_resampled = []\n",
    "y_resampled = []\n",
    "X_res_vis   = []\n",
    "\n",
    "# Here we loop over all possible SMOTE Methods\n",
    "for method in sm:\n",
    "    \n",
    "    # For each SMOTE method, apply and resample\n",
    "    X_res, y_res = method.fit_sample(X, y)\n",
    "    X_resampled.append(X_res)\n",
    "    y_resampled.append(y_res)\n",
    "    X_res_vis.append(pca.transform(X_res))\n",
    "    \n",
    "    # Because this code runs in a loop over all SMOTE\n",
    "    # methods, we do the before and after experiments\n",
    "    # pretty much together.\n",
    "    ###########################\n",
    "    # Get test/train splits\n",
    "    ###########################\n",
    "    # For experiment 1d\n",
    "    X_before = X\n",
    "    Y_before = y\n",
    "    \n",
    "    # For experiment 2d\n",
    "    X_after = X_res\n",
    "    Y_after = y_res\n",
    "    \n",
    "    from sklearn.model_selection import train_test_split\n",
    "    \n",
    "    examples_before_total = int(len(Y_before))\n",
    "    examples_after_total  = int(len(Y_after))\n",
    "    \n",
    "    # For experiment 1d\n",
    "    x_train_bef, x_test_bef, y_train_bef, y_test_bef = train_test_split(X_before, Y_before, test_size=0.5)\n",
    "    \n",
    "    # For experiment 2d\n",
    "    x_train_aft, x_test_aft, y_train_aft, y_test_aft = train_test_split(X_after, Y_after, test_size=0.5)\n",
    "    \n",
    "    ###########################\n",
    "    # Build classifiers\n",
    "    ###########################\n",
    "    from sklearn.naive_bayes import GaussianNB\n",
    "    classifier_bef = GaussianNB()\n",
    "    classifier_aft = GaussianNB()\n",
    "    \n",
    "    # Train the before data, and after data classifiers.\n",
    "    classifier_bef.fit(x_train_bef, y_train_bef)\n",
    "    classifier_aft.fit(x_train_aft, y_train_aft)\n",
    "    \n",
    "    ###########################\n",
    "    # Make predictions\n",
    "    ###########################\n",
    "    # Now make some predcitions for the likely labels\n",
    "    # using the trained classifier.\n",
    "    y_predicted_bef = classifier_bef.predict(x_test_bef)\n",
    "    y_predicted_aft = classifier_aft.predict(x_test_aft)\n",
    "    from sklearn.metrics import confusion_matrix\n",
    "\n",
    "    # Next we can get the confusion matrix:\n",
    "    cm_bef = confusion_matrix(y_test_bef,y_predicted_bef)\n",
    "    cm_aft = confusion_matrix(y_test_aft,y_predicted_aft)\n",
    "    \n",
    "    ###########################\n",
    "    # Evaluate\n",
    "    ###########################\n",
    "    from EvaluationStats import ClassifierStats\n",
    "\n",
    "    # Create object\n",
    "    stats_bef = ClassifierStats(cm_bef)\n",
    "    stats_aft = ClassifierStats(cm_aft)\n",
    "    \n",
    "    # Print the results\n",
    "    print (\"\\nSMOTE Method: \", str(method),\"\\n\")\n",
    "    print (\"Acc before    : \", '{0:.5f}'.format(stats_bef.getAccuracy()) ,\"Acc after    : \",'{0:.5f}'.format(stats_aft.getAccuracy()))\n",
    "    print (\"Rec. before   : \", '{0:.5f}'.format(stats_bef.getRecall())   ,\"Rec. after   : \",'{0:.5f}'.format(stats_aft.getRecall()))\n",
    "    print (\"Prec. before  : \", '{0:.5f}'.format(stats_bef.getPrecision()),\"Prec. after  : \",'{0:.5f}'.format(stats_aft.getPrecision()))\n",
    "    print (\"F1 before     : \", '{0:.5f}'.format(stats_bef.getfScore())  ,\"F1 after     : \",'{0:.5f}'.format(stats_aft.getfScore()))\n",
    "    print (\"G-mean before : \", '{0:.5f}'.format(stats_bef.getGMean())    ,\"G-mean after : \",'{0:.5f}'.format(stats_aft.getGMean()))\n",
    "  \n",
    "    \n",
    "    # Here we can evaluate all the SMOTE methods together,\n",
    "    # before and after they've bee applied.\n",
    "\n",
    "    \n",
    "#############\n",
    "# Plotting\n",
    "#############\n",
    "\n",
    "# Two subplots, unpack the axes array immediately\n",
    "f, ((ax1, ax2), (ax3, ax4), (ax5, ax6)) = plt.subplots(3, 2)\n",
    "# Remove axis for second plot\n",
    "ax2.axis('off')\n",
    "ax_res = [ax3, ax4, ax5, ax6]\n",
    "\n",
    "c0, c1 = plot_resampling(ax1, X_vis, y, 'Original set')\n",
    "\n",
    "for i in range(len(kind)):\n",
    "    plot_resampling(ax_res[i], X_res_vis[i], y_resampled[i],\n",
    "                    'SMOTE {}'.format(kind[i]))\n",
    "\n",
    "ax2.legend((c0, c1), ('Class #0', 'Class #1'), loc='center',\n",
    "           ncol=1, labelspacing=0.)\n",
    "\n",
    "plt.tight_layout()\n",
    "plt.show()"
   ]
  },
  {
   "cell_type": "markdown",
   "metadata": {},
   "source": [
    "Again we've improved the G-mean, and like with OSS, had little effect on the accuracy rate!"
   ]
  },
  {
   "cell_type": "markdown",
   "metadata": {},
   "source": [
    "### Algorithms Robust to Imbalance\n",
    "Some machine learning algorithms are more robust to imbalance than others. The decision tree is one such algorithm, depicted in the image below. It partitions the data space in such a way, that it overcomes some of the problems associated with disjuncts. I don't describe this algorithm here in detail, more detail can be found elsewhere (Bishop, 2006).\n"
   ]
  },
  {
   "cell_type": "markdown",
   "metadata": {},
   "source": [
    "<img src=\"images/png/SplitPointTree.png\" width=\"500\">"
   ]
  },
  {
   "cell_type": "markdown",
   "metadata": {
    "collapsed": true
   },
   "source": [
    "Hopefully the examples provided thus far will help you get to grips with the imbalanced learning problem. Perhaps you’ll be able to apply the code to some of your own data."
   ]
  },
  {
   "cell_type": "markdown",
   "metadata": {},
   "source": [
    "## References\n",
    "\n",
    "Bates S. D., Bailes M., Barsdell B. R., Bhat N. D. R., Burgay M., Burke-Spolaor S., Champion D. J., et al., 2012, *\"The High Time Resolution Universe Pulsar Survey - VI. An artificial neural network and timing of 75 pulsars\"*, MNRAS, 427, pp.1052-1065, [DOI:10.1111/j.1365-2966.2012.22042.x](https://dx.doi.org/10.1111/j.1365-2966.2012.22042.x).\n",
    "\n",
    "Bishop C. M., 2006, *\"Pattern Recognition and Machine Learning\"*, Springer.\n",
    "\n",
    "Chawla N.V., Bowyer K.W., Hall L.O., and Kegelmeyer W.P., 2002, *\"SMOTE: Syn- thetic Minority Over-sampling Technique.\"*, Journal of Artificial Intelligence Research, 16(1), pp.321-357.\n",
    "\n",
    "Gama J., Zliobaite I., Bifet A., Pechenizkiy M., Bouchachia A., 2014, *\"A Survey on Concept Drift Adaptation\"*, ACM Comput. Surv., vol.46(4), pp.44:1--44:37, [DOI:10.1145/2523813](https://dx.doi.org/10.1145/2523813).\n",
    "\n",
    "He H. and Garcia E., 2009, *\"Learning from Imbalanced Data\"*, Knowledge and Data\n",
    "Engineering, IEEE Transactions on, 21(9), pp.1263-1284.\n",
    "\n",
    "Kubat M. and Matwin S., 1997, *\"Addressing the Curse of Imbalanced Training Sets: One-Sided Selection.\"*, In Proceedings of the 14th International Conference on Machine Learning (ICML), pp.179-186.\n",
    "\n",
    "Levin L., 2012, *\"A search for radio pulsars: from millisecond pulsars to magnetars\"*, PhD thesis, Swinburne University.\n",
    "\n",
    "Lyon R. J., Stappers B. W., Cooper S., Brooke J. M., Knowles J.D., 2016, *\"Fifty Years of Pulsar Candidate Selection: From simple filters to a new principled real-time classification approach\"*, MNRAS, 459 (1):1104-1123, [DOI:10.1093/mnras/stw656](https://dx.doi.org/10.1093/mnras/stw656)\n",
    "\n",
    "Lyon R. J., 2016, *\"Why Are Pulsars Hard To Find?\"*, PhD thesis, University of Manchester.\n",
    "\n",
    "Thornton D., 2013, *\"The High Time Resolution Radio Sky\"*, PhD thesis, University of Manchester.\n",
    "\n",
    "Tomek I., 1976, *“Two Modifications of CNN.\"*, Systems, Man and Cybernetics, IEEE Transactions on, SMC-6(11), pp.769-772."
   ]
  }
 ],
 "metadata": {
  "anaconda-cloud": {},
  "kernelspec": {
   "display_name": "Python [conda env:py36]",
   "language": "python",
   "name": "conda-env-py36-py"
  },
  "language_info": {
   "codemirror_mode": {
    "name": "ipython",
    "version": 3
   },
   "file_extension": ".py",
   "mimetype": "text/x-python",
   "name": "python",
   "nbconvert_exporter": "python",
   "pygments_lexer": "ipython3",
   "version": "3.6.2"
  }
 },
 "nbformat": 4,
 "nbformat_minor": 1
}
